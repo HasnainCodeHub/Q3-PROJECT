{
  "nbformat": 4,
  "nbformat_minor": 0,
  "metadata": {
    "colab": {
      "provenance": []
    },
    "kernelspec": {
      "name": "python3",
      "display_name": "Python 3"
    },
    "language_info": {
      "name": "python"
    },
    "widgets": {
      "application/vnd.jupyter.widget-state+json": {
        "d17bfb98fc964b83b11b1e7f3d955f76": {
          "model_module": "@jupyter-widgets/controls",
          "model_name": "HBoxModel",
          "model_module_version": "1.5.0",
          "state": {
            "_dom_classes": [],
            "_model_module": "@jupyter-widgets/controls",
            "_model_module_version": "1.5.0",
            "_model_name": "HBoxModel",
            "_view_count": null,
            "_view_module": "@jupyter-widgets/controls",
            "_view_module_version": "1.5.0",
            "_view_name": "HBoxView",
            "box_style": "",
            "children": [
              "IPY_MODEL_b90ec57123994695a42a5c93a160f396",
              "IPY_MODEL_5285a74934de400985ea5a3c2c8705f1",
              "IPY_MODEL_dc4bf1b3971942ef9e93e6e18bc400d7"
            ],
            "layout": "IPY_MODEL_b8eb914f6dc341319a454a3f4a34a092"
          }
        },
        "b90ec57123994695a42a5c93a160f396": {
          "model_module": "@jupyter-widgets/controls",
          "model_name": "HTMLModel",
          "model_module_version": "1.5.0",
          "state": {
            "_dom_classes": [],
            "_model_module": "@jupyter-widgets/controls",
            "_model_module_version": "1.5.0",
            "_model_name": "HTMLModel",
            "_view_count": null,
            "_view_module": "@jupyter-widgets/controls",
            "_view_module_version": "1.5.0",
            "_view_name": "HTMLView",
            "description": "",
            "description_tooltip": null,
            "layout": "IPY_MODEL_1d424e94622848b99a02b434d3a788b0",
            "placeholder": "​",
            "style": "IPY_MODEL_17431d7620be48f7a48fbc0c2431f993",
            "value": "100%"
          }
        },
        "5285a74934de400985ea5a3c2c8705f1": {
          "model_module": "@jupyter-widgets/controls",
          "model_name": "FloatProgressModel",
          "model_module_version": "1.5.0",
          "state": {
            "_dom_classes": [],
            "_model_module": "@jupyter-widgets/controls",
            "_model_module_version": "1.5.0",
            "_model_name": "FloatProgressModel",
            "_view_count": null,
            "_view_module": "@jupyter-widgets/controls",
            "_view_module_version": "1.5.0",
            "_view_name": "ProgressView",
            "bar_style": "success",
            "description": "",
            "description_tooltip": null,
            "layout": "IPY_MODEL_69fb0a12dc6241949a07b37d2947e17c",
            "max": 21,
            "min": 0,
            "orientation": "horizontal",
            "style": "IPY_MODEL_490aae4ec8934622a60614ad287a2129",
            "value": 21
          }
        },
        "dc4bf1b3971942ef9e93e6e18bc400d7": {
          "model_module": "@jupyter-widgets/controls",
          "model_name": "HTMLModel",
          "model_module_version": "1.5.0",
          "state": {
            "_dom_classes": [],
            "_model_module": "@jupyter-widgets/controls",
            "_model_module_version": "1.5.0",
            "_model_name": "HTMLModel",
            "_view_count": null,
            "_view_module": "@jupyter-widgets/controls",
            "_view_module_version": "1.5.0",
            "_view_name": "HTMLView",
            "description": "",
            "description_tooltip": null,
            "layout": "IPY_MODEL_5e51c889ef3a494e9e7662e28176af0a",
            "placeholder": "​",
            "style": "IPY_MODEL_be201ec2e1ba42dabd8ac0a0020c90e0",
            "value": " 21/21 [01:37&lt;00:00,  1.55s/it]"
          }
        },
        "b8eb914f6dc341319a454a3f4a34a092": {
          "model_module": "@jupyter-widgets/base",
          "model_name": "LayoutModel",
          "model_module_version": "1.2.0",
          "state": {
            "_model_module": "@jupyter-widgets/base",
            "_model_module_version": "1.2.0",
            "_model_name": "LayoutModel",
            "_view_count": null,
            "_view_module": "@jupyter-widgets/base",
            "_view_module_version": "1.2.0",
            "_view_name": "LayoutView",
            "align_content": null,
            "align_items": null,
            "align_self": null,
            "border": null,
            "bottom": null,
            "display": null,
            "flex": null,
            "flex_flow": null,
            "grid_area": null,
            "grid_auto_columns": null,
            "grid_auto_flow": null,
            "grid_auto_rows": null,
            "grid_column": null,
            "grid_gap": null,
            "grid_row": null,
            "grid_template_areas": null,
            "grid_template_columns": null,
            "grid_template_rows": null,
            "height": null,
            "justify_content": null,
            "justify_items": null,
            "left": null,
            "margin": null,
            "max_height": null,
            "max_width": null,
            "min_height": null,
            "min_width": null,
            "object_fit": null,
            "object_position": null,
            "order": null,
            "overflow": null,
            "overflow_x": null,
            "overflow_y": null,
            "padding": null,
            "right": null,
            "top": null,
            "visibility": null,
            "width": null
          }
        },
        "1d424e94622848b99a02b434d3a788b0": {
          "model_module": "@jupyter-widgets/base",
          "model_name": "LayoutModel",
          "model_module_version": "1.2.0",
          "state": {
            "_model_module": "@jupyter-widgets/base",
            "_model_module_version": "1.2.0",
            "_model_name": "LayoutModel",
            "_view_count": null,
            "_view_module": "@jupyter-widgets/base",
            "_view_module_version": "1.2.0",
            "_view_name": "LayoutView",
            "align_content": null,
            "align_items": null,
            "align_self": null,
            "border": null,
            "bottom": null,
            "display": null,
            "flex": null,
            "flex_flow": null,
            "grid_area": null,
            "grid_auto_columns": null,
            "grid_auto_flow": null,
            "grid_auto_rows": null,
            "grid_column": null,
            "grid_gap": null,
            "grid_row": null,
            "grid_template_areas": null,
            "grid_template_columns": null,
            "grid_template_rows": null,
            "height": null,
            "justify_content": null,
            "justify_items": null,
            "left": null,
            "margin": null,
            "max_height": null,
            "max_width": null,
            "min_height": null,
            "min_width": null,
            "object_fit": null,
            "object_position": null,
            "order": null,
            "overflow": null,
            "overflow_x": null,
            "overflow_y": null,
            "padding": null,
            "right": null,
            "top": null,
            "visibility": null,
            "width": null
          }
        },
        "17431d7620be48f7a48fbc0c2431f993": {
          "model_module": "@jupyter-widgets/controls",
          "model_name": "DescriptionStyleModel",
          "model_module_version": "1.5.0",
          "state": {
            "_model_module": "@jupyter-widgets/controls",
            "_model_module_version": "1.5.0",
            "_model_name": "DescriptionStyleModel",
            "_view_count": null,
            "_view_module": "@jupyter-widgets/base",
            "_view_module_version": "1.2.0",
            "_view_name": "StyleView",
            "description_width": ""
          }
        },
        "69fb0a12dc6241949a07b37d2947e17c": {
          "model_module": "@jupyter-widgets/base",
          "model_name": "LayoutModel",
          "model_module_version": "1.2.0",
          "state": {
            "_model_module": "@jupyter-widgets/base",
            "_model_module_version": "1.2.0",
            "_model_name": "LayoutModel",
            "_view_count": null,
            "_view_module": "@jupyter-widgets/base",
            "_view_module_version": "1.2.0",
            "_view_name": "LayoutView",
            "align_content": null,
            "align_items": null,
            "align_self": null,
            "border": null,
            "bottom": null,
            "display": null,
            "flex": null,
            "flex_flow": null,
            "grid_area": null,
            "grid_auto_columns": null,
            "grid_auto_flow": null,
            "grid_auto_rows": null,
            "grid_column": null,
            "grid_gap": null,
            "grid_row": null,
            "grid_template_areas": null,
            "grid_template_columns": null,
            "grid_template_rows": null,
            "height": null,
            "justify_content": null,
            "justify_items": null,
            "left": null,
            "margin": null,
            "max_height": null,
            "max_width": null,
            "min_height": null,
            "min_width": null,
            "object_fit": null,
            "object_position": null,
            "order": null,
            "overflow": null,
            "overflow_x": null,
            "overflow_y": null,
            "padding": null,
            "right": null,
            "top": null,
            "visibility": null,
            "width": null
          }
        },
        "490aae4ec8934622a60614ad287a2129": {
          "model_module": "@jupyter-widgets/controls",
          "model_name": "ProgressStyleModel",
          "model_module_version": "1.5.0",
          "state": {
            "_model_module": "@jupyter-widgets/controls",
            "_model_module_version": "1.5.0",
            "_model_name": "ProgressStyleModel",
            "_view_count": null,
            "_view_module": "@jupyter-widgets/base",
            "_view_module_version": "1.2.0",
            "_view_name": "StyleView",
            "bar_color": null,
            "description_width": ""
          }
        },
        "5e51c889ef3a494e9e7662e28176af0a": {
          "model_module": "@jupyter-widgets/base",
          "model_name": "LayoutModel",
          "model_module_version": "1.2.0",
          "state": {
            "_model_module": "@jupyter-widgets/base",
            "_model_module_version": "1.2.0",
            "_model_name": "LayoutModel",
            "_view_count": null,
            "_view_module": "@jupyter-widgets/base",
            "_view_module_version": "1.2.0",
            "_view_name": "LayoutView",
            "align_content": null,
            "align_items": null,
            "align_self": null,
            "border": null,
            "bottom": null,
            "display": null,
            "flex": null,
            "flex_flow": null,
            "grid_area": null,
            "grid_auto_columns": null,
            "grid_auto_flow": null,
            "grid_auto_rows": null,
            "grid_column": null,
            "grid_gap": null,
            "grid_row": null,
            "grid_template_areas": null,
            "grid_template_columns": null,
            "grid_template_rows": null,
            "height": null,
            "justify_content": null,
            "justify_items": null,
            "left": null,
            "margin": null,
            "max_height": null,
            "max_width": null,
            "min_height": null,
            "min_width": null,
            "object_fit": null,
            "object_position": null,
            "order": null,
            "overflow": null,
            "overflow_x": null,
            "overflow_y": null,
            "padding": null,
            "right": null,
            "top": null,
            "visibility": null,
            "width": null
          }
        },
        "be201ec2e1ba42dabd8ac0a0020c90e0": {
          "model_module": "@jupyter-widgets/controls",
          "model_name": "DescriptionStyleModel",
          "model_module_version": "1.5.0",
          "state": {
            "_model_module": "@jupyter-widgets/controls",
            "_model_module_version": "1.5.0",
            "_model_name": "DescriptionStyleModel",
            "_view_count": null,
            "_view_module": "@jupyter-widgets/base",
            "_view_module_version": "1.2.0",
            "_view_name": "StyleView",
            "description_width": ""
          }
        }
      }
    }
  },
  "cells": [
    {
      "cell_type": "markdown",
      "source": [
        "# Caption Generator Project\n",
        "\n",
        "This project demonstrates how to fine-tune a model using the Google Generative AI API to generate creative captions based on specific inputs. The captions are tailored for various domains such as fitness, travel, food, and more. Below is a detailed guide to help you understand and replicate the process.\n",
        "\n",
        "---\n",
        "\n",
        "## **Features**\n",
        "- Fine-tunes a base model to generate captions specific to your needs.\n",
        "- Supports domain-specific inputs like GYM training, Travel, Cake Company, etc.\n",
        "- Outputs captions with hashtags for effective engagement on social platforms.\n",
        "- Visualizes the training progress with loss metrics.\n",
        "- Allows testing of generated captions after tuning.\n",
        "- Deletes tuned models when no longer needed.\n",
        "\n",
        "---\n",
        "\n",
        "## **Setup and Requirements**\n",
        "\n",
        "### **Prerequisites**\n",
        "- **Python**: Ensure Python 3.8+ is installed.\n",
        "- **Google Colab**: Recommended environment for running this code.\n",
        "- **Google Generative AI API**: Requires access and API key.\n",
        "\n",
        "### **Install Required Libraries**\n",
        "```bash\n",
        "pip install -q google-generativeai\n",
        "pip install seaborn pandas\n",
        "```\n",
        "\n",
        "---\n",
        "\n",
        "## **How to Run the Project**\n",
        "\n",
        "### **1. Configure the API Key**\n",
        "Replace the placeholder in the code with your **Google API key**:\n",
        "```python\n",
        "from google.colab import userdata\n",
        "genai.configure(api_key=userdata.get('GOOGLE_API_KEY'))\n",
        "```\n",
        "\n",
        "### **2. Define and Prepare the Model**\n",
        "- Import the required libraries.\n",
        "- Select the base model that supports fine-tuning.\n",
        "- Create a unique ID for the tuned model:\n",
        "```python\n",
        "name = f'Caption Generator-{random.randint(0,10000)}'\n",
        "tuned_model_id = re.sub(r'[^a-z0-9-]', '-', name.lower()).strip('-')\n",
        "```\n",
        "\n",
        "### **3. Provide Training Data**\n",
        "Training data consists of input-output pairs. For example:\n",
        "```python\n",
        "{\n",
        "  'text_input': 'GYM Training',\n",
        "  'output': 'No pain, no gain. 💪 #FitnessGoals #Workout #Motivation #Strength #Health',\n",
        "}\n",
        "```\n",
        "A variety of inputs and outputs are included for different domains like Travel, Yoga, Books, Ice Cream, and more.\n",
        "\n",
        "### **4. Train the Model**\n",
        "- Use the `genai.create_tuned_model` function to fine-tune the base model:\n",
        "```python\n",
        "operation = genai.create_tuned_model(\n",
        "    source_model=base_model.name,\n",
        "    training_data=[...],\n",
        "    id=tuned_model_id,\n",
        "    epoch_count=4,\n",
        "    batch_size=4,\n",
        "    learning_rate=0.001,\n",
        ")\n",
        "```\n",
        "\n",
        "- Monitor the training process using:\n",
        "```python\n",
        "for status in operation.wait_bar():\n",
        "  time.sleep(30)\n",
        "```\n",
        "\n",
        "### **5. Visualize Training Progress**\n",
        "- Visualize loss metrics for each epoch using Pandas and Seaborn:\n",
        "```python\n",
        "snapshots = pd.DataFrame(model.tuning_task.snapshots)\n",
        "sns.lineplot(data=snapshots, x='epoch', y='mean_loss')\n",
        "```\n",
        "\n",
        "### **6. Generate Captions**\n",
        "Test the fine-tuned model by generating captions for various inputs:\n",
        "```python\n",
        "result = model.generate_content('Sports')  \n",
        "print(result.text)\n",
        "```\n",
        "\n",
        "### **7. Clean Up Resources**\n",
        "After testing, delete the tuned model if it's no longer needed:\n",
        "```python\n",
        "genai.delete_tuned_model(f'tunedModels/{tuned_model_id}')\n",
        "```\n",
        "Verify the deletion:\n",
        "```python\n",
        "try:\n",
        "  m = genai.get_tuned_model(f'tunedModels/{tuned_model_id}')\n",
        "  print(m)\n",
        "except Exception as e:\n",
        "  print(f\"{type(e)}: {e}\")\n",
        "```\n",
        "\n",
        "---\n",
        "\n",
        "## **Training Data**\n",
        "The training data includes various inputs with corresponding outputs, for example:\n",
        "\n",
        "| **Input**              | **Output**                                                                 |\n",
        "|-------------------------|---------------------------------------------------------------------------|\n",
        "| GYM Training           | No pain, no gain. 💪 #FitnessGoals #Workout #Motivation #Strength #Health |\n",
        "| Cake company           | Sweet moments. 🧁 #CakeLove #SweetTreats #Desserts #Baking #Celebration  |\n",
        "| Travel agency          | Adventure awaits. 🌍 #TravelGoals #Wanderlust #Explore #Adventure #Vacation |\n",
        "| Yoga studio            | Find your balance. 🧘‍♀️ #YogaLife #Mindfulness #Wellness #Balance #Peace |\n",
        "\n",
        "---\n",
        "\n",
        "## **Visualization Example**\n",
        "![Training Loss](training_loss_graph_placeholder.png)\n",
        "\n",
        "---\n",
        "\n",
        "## **Key Functions Used**\n",
        "- `genai.list_models()`: Lists available models.\n",
        "- `genai.create_tuned_model()`: Creates a fine-tuned model.\n",
        "- `genai.get_tuned_model()`: Retrieves the tuned model.\n",
        "- `genai.delete_tuned_model()`: Deletes the tuned model.\n",
        "\n",
        "---\n",
        "\n"
      ],
      "metadata": {
        "id": "qjfTv8KJBmeD"
      }
    },
    {
      "cell_type": "code",
      "execution_count": 1,
      "metadata": {
        "id": "U9L2CrbPUq1N"
      },
      "outputs": [],
      "source": [
        "!pip install -q google-generativeai"
      ]
    },
    {
      "cell_type": "code",
      "source": [
        "import google.generativeai as genai"
      ],
      "metadata": {
        "id": "DSJVuZ9PWdAe"
      },
      "execution_count": 2,
      "outputs": []
    },
    {
      "cell_type": "code",
      "source": [
        "from google.colab import userdata\n",
        "genai.configure(api_key=userdata.get('GOOGLE_API_KEY'))"
      ],
      "metadata": {
        "id": "zep1C4wjWemW"
      },
      "execution_count": 3,
      "outputs": []
    },
    {
      "cell_type": "code",
      "source": [
        "for i, m in zip(range(5), genai.list_tuned_models()):\n",
        "  print(m.name)"
      ],
      "metadata": {
        "colab": {
          "base_uri": "https://localhost:8080/",
          "height": 108
        },
        "id": "iUNd_QWSWjjW",
        "outputId": "0da45580-f4c9-41bd-cddf-e473da04a708"
      },
      "execution_count": 4,
      "outputs": [
        {
          "output_type": "stream",
          "name": "stdout",
          "text": [
            "tunedModels/generate-num-373\n",
            "tunedModels/generate-num-5941\n",
            "tunedModels/generate-num-240\n",
            "tunedModels/generate-num-3212\n",
            "tunedModels/caption-generator-2162\n"
          ]
        }
      ]
    },
    {
      "cell_type": "code",
      "source": [
        "base_model = [\n",
        "    m for m in genai.list_models()\n",
        "    if \"createTunedModel\" in m.supported_generation_methods and\n",
        "    \"flash\" in m.name][0]"
      ],
      "metadata": {
        "id": "Rag_u-GvW4bO"
      },
      "execution_count": 6,
      "outputs": []
    },
    {
      "source": [
        "import random\n",
        "import re\n",
        "\n",
        "name = f'Caption Generator-{random.randint(0,10000)}'\n",
        "# Modify the name to match the regex pattern for id\n",
        "tuned_model_id = re.sub(r'[^a-z0-9-]', '-', name.lower()).strip('-')\n",
        "# Ensure it starts with a lowercase letter and replace invalid characters with hyphens\n",
        "\n",
        "operation = genai.create_tuned_model(\n",
        "    # You can use a tuned model here too. Set `source_model=\"tunedModels/...\"`\n",
        "    source_model=base_model.name,\n",
        "    training_data=[\n",
        "        {\n",
        "             'text_input': 'GYM Training',\n",
        "             'output': 'No pain, no gain. 💪 #FitnessGoals #Workout #Motivation #Strength #Health',\n",
        "        },{\n",
        "             'text_input': 'Cake company',\n",
        "             'output': 'Sweet moments. 🧁 #CakeLove #SweetTreats #Desserts #Baking #Celebration',\n",
        "        },{\n",
        "             'text_input': 'Travel agency',\n",
        "             'output': 'Adventure awaits. 🌍 #TravelGoals #Wanderlust #Explore #Adventure #Vacation',\n",
        "        },{\n",
        "             'text_input': 'Fitness trainer',\n",
        "             'output': 'No pain, no gain. 💪 #FitnessGoals #Workout #Motivation #Strength #Health',\n",
        "        },{\n",
        "             'text_input': 'Coffee shop',\n",
        "             'output': 'Start your day right. ☕ #CoffeeLover #MorningBrew #Cafe #Energy #CozyVibes',\n",
        "        },{\n",
        "             'text_input': 'Dog grooming service',\n",
        "             'output': 'Pawsitively perfect. 🐶 #DogGrooming #PetCare #Dogs #FurryFriends #PamperedPets',\n",
        "        },{\n",
        "             'text_input': 'Bookstore',\n",
        "             'output': 'Escape into a book. 📚 #BookWorm #ReadingTime #Books #Literature #Imagination',\n",
        "        },{\n",
        "             'text_input': 'Yoga studio',\n",
        "             'output': 'Find your balance. 🧘‍♀️ #YogaLife #Mindfulness #Wellness #Balance #Peace',\n",
        "        },{\n",
        "             'text_input': 'Jewelry store',\n",
        "             'output': 'Shine bright. 💎 #JewelryLover #Sparkle #Luxury #Style #Glamour',\n",
        "        },{\n",
        "             'text_input': 'Spa and wellness center',\n",
        "             'output': 'Relax and rejuvenate. 🚰 #SpaDay #Wellness #Relaxation #PamperYourself #Beauty',\n",
        "        },{\n",
        "             'text_input': 'Car dealership',\n",
        "             'output': 'Drive your dream. 🚗 #CarLovers #AutoLife #DreamCar #LuxuryCars #Vehicle',\n",
        "        },{\n",
        "             'text_input': 'Photography studio',\n",
        "             'output': 'Capture the moment. 📸 #PhotographyLife #Memories #PhotoShoot #Creativity #Art',\n",
        "        },{\n",
        "             'text_input': 'Music school',\n",
        "             'output': 'Unleash your talent. 🎶 #MusicLovers #LearnMusic #Talent #Creativity #Passion',\n",
        "        },{\n",
        "             'text_input': 'Tech repair shop',\n",
        "             'output': 'Fix it right. 💻 #TechRepair #GadgetCare #Technology #Solutions #Innovation',\n",
        "        },{\n",
        "             'text_input': 'Pet adoption center',\n",
        "             'output': 'Find a friend for life. 🐕 #PetAdoption #AnimalLovers #RescuePets #ForeverHome #FurryFriend',\n",
        "        },{\n",
        "             'text_input': 'Toy store',\n",
        "             'output': 'Playtime paradise. 🧸 #ToyStore #KidsDream #Fun #Toys #Happiness',\n",
        "        },{\n",
        "             'text_input': 'Ice cream parlor',\n",
        "             'output': 'Chill out with a scoop. 🍦 #IceCreamLove #SweetTreat #Desserts #CoolDown #SummerVibes',\n",
        "        },{\n",
        "             'text_input': 'Florist',\n",
        "             'output': 'Bloom your day. 🌸 #FloristShop #FlowerLove #Nature #Beauty #Fresh',\n",
        "        },{\n",
        "             'text_input': 'Home decor shop',\n",
        "             'output': 'Style your home. 🏡 #HomeDecor #LivingSpaces #InteriorDesign #Style #Comfort',\n",
        "        },{\n",
        "             'text_input': 'Art gallery',\n",
        "             'output': 'Art that inspires. 🎨 #ArtGallery #Creativity #Inspiration #Artists #Masterpiece',\n",
        "        },{\n",
        "             'text_input': 'Sportswear shop',\n",
        "             'output': 'Gear up for greatness. 🏃‍♂️ #Sportswear #ActiveLife #Fitness #Style #Performance',\n",
        "        }\n",
        "    ],\n",
        "    id=tuned_model_id, # Use the modified id\n",
        "    epoch_count=4,\n",
        "    batch_size=4,\n",
        "    learning_rate=0.001,\n",
        ")"
      ],
      "cell_type": "code",
      "metadata": {
        "id": "BG214yoFXSbG"
      },
      "execution_count": 7,
      "outputs": []
    },
    {
      "cell_type": "code",
      "source": [
        "model = genai.get_tuned_model(f'tunedModels/{tuned_model_id}')"
      ],
      "metadata": {
        "id": "ZAnJeRcmXdM3"
      },
      "execution_count": 8,
      "outputs": []
    },
    {
      "cell_type": "code",
      "source": [
        "import time\n",
        "\n",
        "for status in operation.wait_bar():\n",
        "  time.sleep(30)"
      ],
      "metadata": {
        "colab": {
          "base_uri": "https://localhost:8080/",
          "height": 49,
          "referenced_widgets": [
            "d17bfb98fc964b83b11b1e7f3d955f76",
            "b90ec57123994695a42a5c93a160f396",
            "5285a74934de400985ea5a3c2c8705f1",
            "dc4bf1b3971942ef9e93e6e18bc400d7",
            "b8eb914f6dc341319a454a3f4a34a092",
            "1d424e94622848b99a02b434d3a788b0",
            "17431d7620be48f7a48fbc0c2431f993",
            "69fb0a12dc6241949a07b37d2947e17c",
            "490aae4ec8934622a60614ad287a2129",
            "5e51c889ef3a494e9e7662e28176af0a",
            "be201ec2e1ba42dabd8ac0a0020c90e0"
          ]
        },
        "id": "FJU5XPeLX7xW",
        "outputId": "89ed6ba7-4948-4ef6-dea7-ccf47b98fd3f"
      },
      "execution_count": 9,
      "outputs": [
        {
          "output_type": "display_data",
          "data": {
            "text/plain": [
              "  0%|          | 0/21 [00:00<?, ?it/s]"
            ],
            "application/vnd.jupyter.widget-view+json": {
              "version_major": 2,
              "version_minor": 0,
              "model_id": "d17bfb98fc964b83b11b1e7f3d955f76"
            }
          },
          "metadata": {}
        }
      ]
    },
    {
      "cell_type": "code",
      "source": [
        "import pandas as pd\n",
        "import seaborn as sns\n",
        "\n",
        "model = operation.result()\n",
        "\n",
        "snapshots = pd.DataFrame(model.tuning_task.snapshots)\n",
        "\n",
        "sns.lineplot(data=snapshots, x = 'epoch', y='mean_loss')\n"
      ],
      "metadata": {
        "colab": {
          "base_uri": "https://localhost:8080/",
          "height": 467
        },
        "id": "uqifMN_bYCiW",
        "outputId": "f6977be5-bca2-4592-cf09-ec43d0f38ba2"
      },
      "execution_count": 10,
      "outputs": [
        {
          "output_type": "execute_result",
          "data": {
            "text/plain": [
              "<Axes: xlabel='epoch', ylabel='mean_loss'>"
            ]
          },
          "metadata": {},
          "execution_count": 10
        },
        {
          "output_type": "display_data",
          "data": {
            "text/plain": [
              "<Figure size 640x480 with 1 Axes>"
            ],
            "image/png": "[encoded data removed]"
          },
          "metadata": {}
        }
      ]
    },
    {
      "cell_type": "code",
      "source": [
        "model = genai.GenerativeModel(model_name=f'tunedModels/{tuned_model_id}')"
      ],
      "metadata": {
        "id": "GFhKr_wiYGhm"
      },
      "execution_count": 11,
      "outputs": []
    },
    {
      "cell_type": "code",
      "source": [
        "result = model.generate_content('Sports')\n",
        "result.text"
      ],
      "metadata": {
        "colab": {
          "base_uri": "https://localhost:8080/",
          "height": 36
        },
        "id": "qeKBN62yYz1O",
        "outputId": "8b29f499-8c81-42d8-d71b-886dbd821b95"
      },
      "execution_count": 18,
      "outputs": [
        {
          "output_type": "execute_result",
          "data": {
            "text/plain": [
              "'Sportsmanship.Passion.Victory.Competition.Play. #Sports #Fitness #Motivation #ActiveLife #Champions'"
            ],
            "application/vnd.google.colaboratory.intrinsic+json": {
              "type": "string"
            }
          },
          "metadata": {},
          "execution_count": 18
        }
      ]
    },
    {
      "cell_type": "code",
      "source": [
        "result = model.generate_content('Yoga')\n",
        "result.text"
      ],
      "metadata": {
        "colab": {
          "base_uri": "https://localhost:8080/",
          "height": 36
        },
        "id": "EU6FcKACZjA3",
        "outputId": "ce83c4a2-5de1-4c57-d47e-260969e25195"
      },
      "execution_count": 13,
      "outputs": [
        {
          "output_type": "execute_result",
          "data": {
            "text/plain": [
              "'Find your peace. #YogaLife #Mindfulness #Wellness #Peace #Balance'"
            ],
            "application/vnd.google.colaboratory.intrinsic+json": {
              "type": "string"
            }
          },
          "metadata": {},
          "execution_count": 13
        }
      ]
    },
    {
      "cell_type": "code",
      "source": [
        "result = model.generate_content('Books')\n",
        "result.text"
      ],
      "metadata": {
        "colab": {
          "base_uri": "https://localhost:8080/",
          "height": 36
        },
        "id": "hbm0QH2iZrKG",
        "outputId": "fd9a94de-4148-4451-b7a1-647c4b4cad3e"
      },
      "execution_count": 14,
      "outputs": [
        {
          "output_type": "execute_result",
          "data": {
            "text/plain": [
              "' Escape into a book. #BookWorm #Reading #Literature #Books #Escape'"
            ],
            "application/vnd.google.colaboratory.intrinsic+json": {
              "type": "string"
            }
          },
          "metadata": {},
          "execution_count": 14
        }
      ]
    },
    {
      "cell_type": "code",
      "source": [
        "result = model.generate_content('Sportswear shop')\n",
        "result.text"
      ],
      "metadata": {
        "colab": {
          "base_uri": "https://localhost:8080/",
          "height": 36
        },
        "id": "CzVittJjaCcX",
        "outputId": "c0b2a451-174b-4119-8c28-bb964f01226d"
      },
      "execution_count": 15,
      "outputs": [
        {
          "output_type": "execute_result",
          "data": {
            "text/plain": [
              "'Gear up for greatness. #Sportswear #ActiveLife #Fitness #Performance #Style'"
            ],
            "application/vnd.google.colaboratory.intrinsic+json": {
              "type": "string"
            }
          },
          "metadata": {},
          "execution_count": 15
        }
      ]
    },
    {
      "cell_type": "code",
      "source": [
        "result = model.generate_content('Ice Cream')\n",
        "result.text"
      ],
      "metadata": {
        "colab": {
          "base_uri": "https://localhost:8080/",
          "height": 36
        },
        "id": "oDmhGU1OaLOG",
        "outputId": "8d7d6880-d090-41e0-82f5-e1f290ff41e5"
      },
      "execution_count": 17,
      "outputs": [
        {
          "output_type": "execute_result",
          "data": {
            "text/plain": [
              "' Chill out with a scoop. #IceCream #Desserts #SweetTreat #CoolDown #SummerVibes'"
            ],
            "application/vnd.google.colaboratory.intrinsic+json": {
              "type": "string"
            }
          },
          "metadata": {},
          "execution_count": 17
        }
      ]
    },
    {
      "cell_type": "markdown",
      "source": [
        "# You Can Try Any Of them Listed In Above Data"
      ],
      "metadata": {
        "id": "ypMN2duBZ5vu"
      }
    },
    {
      "cell_type": "code",
      "source": [
        "genai.delete_tuned_model(f'tunedModels/{tuned_model_id}')"
      ],
      "metadata": {
        "id": "bIYwRhoIZt02"
      },
      "execution_count": 19,
      "outputs": []
    },
    {
      "cell_type": "code",
      "source": [
        "try:\n",
        "  m = genai.get_tuned_model(f'tunedModels/{tuned_model_id}')\n",
        "  print(m)\n",
        "except Exception as e:\n",
        "  print(f\"{type(e)}: {e}\")"
      ],
      "metadata": {
        "colab": {
          "base_uri": "https://localhost:8080/",
          "height": 74
        },
        "id": "G4GraQCcAMgC",
        "outputId": "503042c3-6eb0-4caa-b87b-c71d45cd9839"
      },
      "execution_count": 20,
      "outputs": [
        {
          "output_type": "stream",
          "name": "stdout",
          "text": [
            "<class 'google.api_core.exceptions.NotFound'>: 404 GET https://generativelanguage.googleapis.com/v1beta/tunedModels/caption-generator-6875?%24alt=json%3Benum-encoding%3Dint: Tuned model tunedModels/caption-generator-6875 does not exist.\n"
          ]
        },
        {
          "output_type": "stream",
          "name": "stderr",
          "text": [
            "WARNING:tornado.access:404 GET /v1beta/tunedModels/caption-generator-6875?%24alt=json%3Benum-encoding%3Dint (127.0.0.1) 1645.78ms\n"
          ]
        }
      ]
    },
    {
      "cell_type": "markdown",
      "source": [
        "## **Conclusion**\n",
        "This project showcases how to create a fine-tuned caption generator using Google Generative AI API. With domain-specific training data, you can produce engaging and targeted captions for a wide range of inputs.\n",
        "\n",
        "Feel free to expand the training dataset and adjust parameters like `epoch_count`, `batch_size`, and `learning_rate` to improve the model further.\n"
      ],
      "metadata": {
        "id": "iSUMMP8SBuji"
      }
    },
    {
      "cell_type": "code",
      "source": [
        "!pip install langchain google-generativeai seaborn pandas -qU\n"
      ],
      "metadata": {
        "colab": {
          "base_uri": "https://localhost:8080/"
        },
        "id": "S6Iagg4ZBvIw",
        "outputId": "27a86e5f-c8bc-4ed7-92d4-788ce3a4a630"
      },
      "execution_count": 22,
      "outputs": [
        {
          "output_type": "stream",
          "name": "stdout",
          "text": [
            "\u001b[2K     \u001b[90m━━━━━━━━━━━━━━━━━━━━━━━━━━━━━━━━━━━━━━━━\u001b[0m \u001b[32m89.9/89.9 kB\u001b[0m \u001b[31m5.4 MB/s\u001b[0m eta \u001b[36m0:00:00\u001b[0m\n",
            "\u001b[2K   \u001b[90m━━━━━━━━━━━━━━━━━━━━━━━━━━━━━━━━━━━━━━━━\u001b[0m \u001b[32m1.0/1.0 MB\u001b[0m \u001b[31m16.7 MB/s\u001b[0m eta \u001b[36m0:00:00\u001b[0m\n",
            "\u001b[2K   \u001b[90m━━━━━━━━━━━━━━━━━━━━━━━━━━━━━━━━━━━━━━━━\u001b[0m \u001b[32m175.4/175.4 kB\u001b[0m \u001b[31m12.3 MB/s\u001b[0m eta \u001b[36m0:00:00\u001b[0m\n",
            "\u001b[2K   \u001b[90m━━━━━━━━━━━━━━━━━━━━━━━━━━━━━━━━━━━━━━━━\u001b[0m \u001b[32m1.3/1.3 MB\u001b[0m \u001b[31m41.6 MB/s\u001b[0m eta \u001b[36m0:00:00\u001b[0m\n",
            "\u001b[2K   \u001b[90m━━━━━━━━━━━━━━━━━━━━━━━━━━━━━━━━━━━━━━━━\u001b[0m \u001b[32m13.1/13.1 MB\u001b[0m \u001b[31m59.2 MB/s\u001b[0m eta \u001b[36m0:00:00\u001b[0m\n",
            "\u001b[2K   \u001b[90m━━━━━━━━━━━━━━━━━━━━━━━━━━━━━━━━━━━━━━━━\u001b[0m \u001b[32m412.2/412.2 kB\u001b[0m \u001b[31m24.5 MB/s\u001b[0m eta \u001b[36m0:00:00\u001b[0m\n",
            "\u001b[?25h\u001b[31mERROR: pip's dependency resolver does not currently take into account all the packages that are installed. This behaviour is the source of the following dependency conflicts.\n",
            "google-colab 1.0.0 requires pandas==2.2.2, but you have pandas 2.2.3 which is incompatible.\n",
            "cudf-cu12 24.10.1 requires pandas<2.2.3dev0,>=2.0, but you have pandas 2.2.3 which is incompatible.\u001b[0m\u001b[31m\n",
            "\u001b[0m"
          ]
        }
      ]
    },
    {
      "cell_type": "code",
      "source": [
        "import google.generativeai as genai\n",
        "\n",
        "# Configure API Key\n",
        "genai.configure(api_key=\"TUNED_MODEL_API_1\")\n"
      ],
      "metadata": {
        "id": "86Y-c0B5CZ8y"
      },
      "execution_count": 57,
      "outputs": []
    },
    {
      "cell_type": "code",
      "source": [
        "!pip install langchain-community -q"
      ],
      "metadata": {
        "colab": {
          "base_uri": "https://localhost:8080/"
        },
        "id": "lUtjlupJCzUi",
        "outputId": "11889df2-4621-4bac-ef08-bb68dab8bd40"
      },
      "execution_count": 26,
      "outputs": [
        {
          "output_type": "stream",
          "name": "stdout",
          "text": [
            "\u001b[2K   \u001b[90m━━━━━━━━━━━━━━━━━━━━━━━━━━━━━━━━━━━━━━━━\u001b[0m \u001b[32m2.5/2.5 MB\u001b[0m \u001b[31m27.7 MB/s\u001b[0m eta \u001b[36m0:00:00\u001b[0m\n",
            "\u001b[2K   \u001b[90m━━━━━━━━━━━━━━━━━━━━━━━━━━━━━━━━━━━━━━━━\u001b[0m \u001b[32m50.8/50.8 kB\u001b[0m \u001b[31m4.2 MB/s\u001b[0m eta \u001b[36m0:00:00\u001b[0m\n",
            "\u001b[?25h"
          ]
        }
      ]
    },
    {
      "cell_type": "code",
      "source": [
        "from langchain.llms.base import LLM\n",
        "from pydantic import BaseModel, Field\n",
        "\n",
        "# Custom LangChain LLM Wrapper\n",
        "class GoogleGenAICustomLLM(LLM, BaseModel):\n",
        "    model_name: str = Field(..., description=\"Name of the fine-tuned model\")\n",
        "\n",
        "    @property\n",
        "    def _llm_type(self) -> str:\n",
        "        return \"google_generative_ai\"\n",
        "\n",
        "    def _call(self, prompt: str, stop: list = None) -> str:\n",
        "        try:\n",
        "            model = genai.GenerativeModel(model_name=self.model_name)\n",
        "            response = model.generate_content(prompt)\n",
        "            return response.text\n",
        "        except Exception as e:\n",
        "            return f\"Error generating content: {e}\"\n"
      ],
      "metadata": {
        "id": "40FZW1KZCrm6"
      },
      "execution_count": 58,
      "outputs": []
    },
    {
      "cell_type": "code",
      "source": [
        "# Replace this with your actual fine-tuned model ID\n",
        "tuned_model_id = \"tunedModels/name-generator-c19d8v6ih2oz\"\n",
        "\n",
        "# Load the fine-tuned model\n",
        "model = genai.GenerativeModel(model_name=tuned_model_id)\n"
      ],
      "metadata": {
        "id": "FowMMQC4Ci1i"
      },
      "execution_count": 59,
      "outputs": []
    },
    {
      "cell_type": "code",
      "source": [
        "from langchain.prompts import PromptTemplate\n",
        "\n",
        "# Define the prompt template\n",
        "prompt = PromptTemplate(\n",
        "    input_variables=[\"business\"],\n",
        "    template=\"Generate a creative caption for {business}:\"\n",
        ")\n"
      ],
      "metadata": {
        "id": "YB-Ovy3rDecT"
      },
      "execution_count": 60,
      "outputs": []
    },
    {
      "cell_type": "code",
      "source": [
        "from langchain.chains import LLMChain\n",
        "\n",
        "llm = GoogleGenAICustomLLM(model_name=tuned_model_id)\n",
        "\n",
        "# Create an LLM chain\n",
        "chain = LLMChain(llm=llm, prompt=prompt)\n"
      ],
      "metadata": {
        "id": "GDpQUwR4Dg55"
      },
      "execution_count": 61,
      "outputs": []
    },
    {
      "cell_type": "code",
      "source": [
        "# Example inputs\n",
        "businesses = [\"Sportswear shop\", \"Yoga studio\", \"Ice cream parlor\"]\n",
        "\n",
        "# Generate and print captions\n",
        "for business in businesses:\n",
        "    caption = chain.run(business=business)\n",
        "    print(f\"Business: {business}\\nCaption: {caption}\\n\")\n"
      ],
      "metadata": {
        "colab": {
          "base_uri": "https://localhost:8080/",
          "height": 256
        },
        "id": "iGFPq925EGfS",
        "outputId": "d5552da7-56d3-4950-f457-1f2945d09001"
      },
      "execution_count": 62,
      "outputs": [
        {
          "output_type": "stream",
          "name": "stderr",
          "text": [
            "WARNING:tornado.access:400 POST /v1beta/tunedModels/name-generator-c19d8v6ih2oz:generateContent?%24alt=json%3Benum-encoding%3Dint (127.0.0.1) 1694.91ms\n"
          ]
        },
        {
          "output_type": "stream",
          "name": "stdout",
          "text": [
            "Business: Sportswear shop\n",
            "Caption: Error generating content: 400 POST https://generativelanguage.googleapis.com/v1beta/tunedModels/name-generator-c19d8v6ih2oz:generateContent?%24alt=json%3Benum-encoding%3Dint: API key not valid. Please pass a valid API key.\n",
            "\n"
          ]
        },
        {
          "output_type": "stream",
          "name": "stderr",
          "text": [
            "WARNING:tornado.access:400 POST /v1beta/tunedModels/name-generator-c19d8v6ih2oz:generateContent?%24alt=json%3Benum-encoding%3Dint (127.0.0.1) 1468.25ms\n"
          ]
        },
        {
          "output_type": "stream",
          "name": "stdout",
          "text": [
            "Business: Yoga studio\n",
            "Caption: Error generating content: 400 POST https://generativelanguage.googleapis.com/v1beta/tunedModels/name-generator-c19d8v6ih2oz:generateContent?%24alt=json%3Benum-encoding%3Dint: API key not valid. Please pass a valid API key.\n",
            "\n",
            "Business: Ice cream parlor\n",
            "Caption: Error generating content: 400 POST https://generativelanguage.googleapis.com/v1beta/tunedModels/name-generator-c19d8v6ih2oz:generateContent?%24alt=json%3Benum-encoding%3Dint: API key not valid. Please pass a valid API key.\n",
            "\n"
          ]
        },
        {
          "output_type": "stream",
          "name": "stderr",
          "text": [
            "WARNING:tornado.access:400 POST /v1beta/tunedModels/name-generator-c19d8v6ih2oz:generateContent?%24alt=json%3Benum-encoding%3Dint (127.0.0.1) 1164.28ms\n"
          ]
        }
      ]
    },
    {
      "cell_type": "code",
      "source": [],
      "metadata": {
        "id": "3B4uWkzLEzga"
      },
      "execution_count": null,
      "outputs": []
    }
  ]
}