{
  "cells": [
    {
      "cell_type": "markdown",
      "source": [
        "## Project 03: Hasnain’s Calculator Agent\n",
        "\n",
        "### **Table of Contents**\n",
        "- [Overview](#overview)\n",
        "- [Features](#features)\n",
        "- [Main Components](#main-components)\n",
        "- [Code Implementation](#code-implementation)\n",
        "- [Tool Definitions](#tool-definitions)\n",
        "- [Tool Set](#tool-set)\n",
        "- [Agent Implementation](#agent-implementation)\n",
        "- [Running the Agent](#running-the-agent)\n",
        "\n",
        "---\n",
        "\n",
        "### **Overview**\n",
        "This project is **Hasnain's Calculator Agent**, an intelligent agent that performs arithmetic operations and provides information about its creator using **LangChain** and **Google Gemini LLM**. The agent interacts with the user through natural language queries, making it both useful and engaging.\n",
        "\n",
        "---\n",
        "\n",
        "### **Features**\n",
        "- **Arithmetic Operations**: Supports addition, subtraction, multiplication, and division of integers.\n",
        "- **Information Retrieval**: Provides insights about Hasnain, including his work, projects, and skills.\n",
        "- **Interactive Interface**: Allows users to interact by typing queries and getting intelligent responses in real-time.\n",
        "\n",
        "---\n",
        "\n",
        "### **Main Components**\n",
        "- **Arithmetic Tools**: These tools perform fundamental arithmetic operations:\n",
        "  - Addition Tool: Adds two integers.\n",
        "  - Subtraction Tool: Subtracts one integer from another.\n",
        "  - Multiplication Tool: Multiplies two integers.\n",
        "  - Division Tool: Divides one integer by another.\n",
        "\n",
        "- **Information Tools**:\n",
        "  - Introduction Tool: Provides an overview of Hasnain.\n",
        "  - Creator Tool: Shares information about the agent's creator.\n",
        "\n",
        "- **Goodbye Tool**: A simple tool that stops the agent and provides a farewell message.\n",
        "\n",
        "---\n",
        "\n",
        "### **Code Implementation**\n",
        "Below is the core implementation using **LangChain** and **Google Gemini LLM**.\n",
        "\n",
        "```python\n",
        "from google.colab import userdata\n",
        "import os\n",
        "\n",
        "os.environ['GOOGLE_API_KEY'] = userdata.get('GEMINI_API_KEY')\n",
        "\n",
        "from langchain_google_genai import ChatGoogleGenerativeAI\n",
        "\n",
        "llm = ChatGoogleGenerativeAI(model='gemini-1.5-flash', verbose=True)\n",
        "\n",
        "# Example Invocation:\n",
        "response = llm.invoke(\"Who is Hasnain?\")\n",
        "print(response.content)\n"
      ],
      "metadata": {
        "id": "tpN1L5IlgznY"
      }
    },
    {
      "cell_type": "code",
      "execution_count": 1,
      "metadata": {
        "colab": {
          "base_uri": "https://localhost:8080/"
        },
        "collapsed": true,
        "id": "n00AqZIF0K7L",
        "outputId": "f89898a1-6492-441b-94f5-cac51633eecf"
      },
      "outputs": [
        {
          "output_type": "stream",
          "name": "stdout",
          "text": [
            "\u001b[2K   \u001b[90m━━━━━━━━━━━━━━━━━━━━━━━━━━━━━━━━━━━━━━━━\u001b[0m \u001b[32m2.5/2.5 MB\u001b[0m \u001b[31m17.1 MB/s\u001b[0m eta \u001b[36m0:00:00\u001b[0m\n",
            "\u001b[2K   \u001b[90m━━━━━━━━━━━━━━━━━━━━━━━━━━━━━━━━━━━━━━━━\u001b[0m \u001b[32m41.5/41.5 kB\u001b[0m \u001b[31m1.0 MB/s\u001b[0m eta \u001b[36m0:00:00\u001b[0m\n",
            "\u001b[2K   \u001b[90m━━━━━━━━━━━━━━━━━━━━━━━━━━━━━━━━━━━━━━━━\u001b[0m \u001b[32m49.5/49.5 kB\u001b[0m \u001b[31m2.1 MB/s\u001b[0m eta \u001b[36m0:00:00\u001b[0m\n",
            "\u001b[?25h"
          ]
        }
      ],
      "source": [
        "!pip install -q -U langchain langchain_community langchain_google_genai"
      ]
    },
    {
      "cell_type": "code",
      "execution_count": 2,
      "metadata": {
        "id": "rbnjuid-57jP"
      },
      "outputs": [],
      "source": [
        "from google.colab import userdata\n",
        "import os\n",
        "\n",
        "os.environ['GOOGLE_API_KEY'] = userdata.get('GEMINI_API_KEY')\n"
      ]
    },
    {
      "cell_type": "code",
      "execution_count": 3,
      "metadata": {
        "colab": {
          "base_uri": "https://localhost:8080/",
          "height": 109
        },
        "id": "CKv537eq5ut3",
        "outputId": "43d32145-0bb9-409d-9220-d1c9a6a1c52d"
      },
      "outputs": [
        {
          "output_type": "execute_result",
          "data": {
            "text/plain": [
              "'The name \"Hasnain\" is a common Muslim name with Arabic origins. It\\'s most often associated with **the grandsons of the Prophet Muhammad**, specifically:\\n\\n* **Imam Hasan ibn Ali (also spelled Hassan):** He was the elder grandson and the second Imam in Shia Islam. He is revered for his piety, wisdom, and attempts at peaceful reconciliation within the early Muslim community.\\n* **Imam Husayn ibn Ali (also spelled Hussein):** He was the younger grandson and the third Imam in Shia Islam. He is renowned for his sacrifice and martyrdom at the Battle of Karbala, a pivotal event in Shia history.\\n\\n**Therefore, when someone says \"Hasnain,\" they are generally referring to both Hasan and Husayn collectively.** It\\'s a term that acknowledges their shared lineage, their importance in Islamic history, and the deep reverence they are held in by Muslims, especially those of the Shia tradition.\\n\\n**Beyond this primary meaning, \"Hasnain\" can also be used as a given name for individuals.** In this case, it\\'s a way to honor the Prophet\\'s grandsons.\\n\\n**In summary, \"Hasnain\" primarily refers to the two grandsons of Prophet Muhammad, Hasan and Husayn, collectively, and can also be used as a given name.**\\n\\nTo understand the specific context of your question, you might want to consider:\\n\\n* **Are you asking about a historical figure?** If so, the answer is likely referring to the two grandsons.\\n* **Are you asking about a specific person you\\'ve encountered?** If so, you\\'ll need more information to identify them.\\n\\nKnowing the context will help you understand which meaning of \"Hasnain\" is most relevant.'"
            ],
            "application/vnd.google.colaboratory.intrinsic+json": {
              "type": "string"
            }
          },
          "metadata": {},
          "execution_count": 3
        }
      ],
      "source": [
        "from langchain_google_genai import ChatGoogleGenerativeAI\n",
        "\n",
        "llm=ChatGoogleGenerativeAI(model=\"gemini-2.0-flash-exp\",verbose=True)\n",
        "\n",
        "llm.invoke(\"Who is Hasnain?\").content"
      ]
    },
    {
      "cell_type": "code",
      "execution_count": 65,
      "metadata": {
        "id": "kEj_SgsZ60FG"
      },
      "outputs": [],
      "source": [
        "from langchain.tools import Tool\n",
        "from langchain_core.tools import tool\n",
        "\n",
        "@tool\n",
        "def add(a: int, b: int) -> int:\n",
        "    \"\"\"Add two integers.\"\"\"\n",
        "    print(\"Function is Called!\")\n",
        "    return a + b\n",
        "@tool\n",
        "def subtract(a: int, b: int) -> int:\n",
        "    \"\"\"Subtract two integers.\"\"\"\n",
        "    print(\"Function is Called!\")\n",
        "    return a - b\n",
        "@tool\n",
        "def multiply(a: int, b: int) -> int:\n",
        "    \"\"\"Multiply two integers.\"\"\"\n",
        "    print(\"Function is Called!\")\n",
        "    return a * b\n",
        "@tool\n",
        "def divide(a: int, b: int) -> float:\n",
        "    \"\"\"Divide two integers.\"\"\"\n",
        "    print(\"Function is Called!\")\n",
        "    if b == 0:\n",
        "        return \"Error: Division by zero is not allowed.\"\n",
        "    return a / b\n",
        "@tool\n",
        "def intro(input_str: str = \"\") -> str:\n",
        "    \"\"\"Provide Hasnain's introduction.\"\"\"\n",
        "    print(\"Function is Called!\")\n",
        "    return (\n",
        "        \"\"\"Hasnain Ali is a skilled web developer and programmer with a passion for creating dynamic, user-focused projects.\n",
        "        Here is His Linkedin Profile: https://www.linkedin.com/in/hasnain-ali-developer/\n",
        "        His portfolio features innovative Python projects and AI solutions, including a chatbot built with LangChain and Google Gemini LLM.\n",
        "        He is exploring Agentic AI and intelligent agents, driving advancements in automation and artificial intelligence.\"\"\"\n",
        "    )\n",
        "@tool\n",
        "def creator(input_str: str = \"\") -> str:\n",
        "    \"\"\"Provide Hasnain's introduction.\"\"\"\n",
        "    print(\"Function is Called!\")\n",
        "    return (\n",
        "        \"\"\"I am a Calculator Agent Developed By Hasnain Ali.\n",
        "        If You Want to know About Hasnain Ali Then Type Who Is hasnain\n",
        "    \"\"\"\n",
        "    )\n",
        "\n",
        "@tool\n",
        "def goodbye(input_str: str = \"\") -> str:\n",
        "    \"\"\"Stop the Agent.\"\"\"\n",
        "    print(\"Function is Called!\")\n",
        "    return\n",
        "    print(\"Goodbye! Thanks for your visit. Come again...\")\n",
        "\n",
        "@tool\n",
        "def give_social_accounts(input_str: str = \"\") -> str:\n",
        "    \"\"\"Provide Hasnain's social accounts.\"\"\"\n",
        "    print(\"Function is Called!\")\n",
        "    return (\n",
        "        \"\"\"\n",
        "        Hasnain's Linkedin: https://www.linkedin.com/in/hasnain-ali-developer/\n",
        "        Hasnain's Github: https://github.com/HasnainCodeHub\n",
        "        Hasnain's Instagram: https://www.instagram.com/i_hasnainaliofficial/\n",
        "        Hasnain's Facebook Profile: https://www.facebook.com/hasnainazeem.hasnainazeem.1\n",
        "        Hasnain's Email Address: husnainazeem048@gmail.com\n",
        "        Hasnain's Contact Number: 03702537927\n",
        "        \"\"\"\n",
        "    )"
      ]
    },
    {
      "cell_type": "code",
      "source": [
        "tools = [\n",
        "    add,\n",
        "    subtract,\n",
        "    multiply,\n",
        "    divide,\n",
        "    intro,\n",
        "    creator,\n",
        "    goodbye,\n",
        "    give_social_accounts\n",
        "]"
      ],
      "metadata": {
        "id": "f7q_DwEx40Mq"
      },
      "execution_count": 66,
      "outputs": []
    },
    {
      "cell_type": "code",
      "execution_count": 67,
      "metadata": {
        "id": "Ro5skDYCIKWw"
      },
      "outputs": [],
      "source": [
        "from langchain.agents import initialize_agent, AgentType\n",
        "\n",
        "# Initialize the agent\n",
        "agent = initialize_agent(\n",
        "    tools,                        # Provide the tools\n",
        "    llm,                            # LLM for fallback\n",
        "    agent=AgentType.STRUCTURED_CHAT_ZERO_SHOT_REACT_DESCRIPTION,\n",
        "    max_iterations=50,\n",
        "    # verbose=True                        # Enable debugging output\n",
        ")\n"
      ]
    },
    {
      "cell_type": "code",
      "source": [
        "print(\"Welcome To Hasnain's Coding World\")\n",
        "print(\"=\" * 40)\n",
        "print(\"I am a Calculator Agent, and I also have information about my creator. His name is Hasnain Ali...\")\n",
        "\n",
        "while True:\n",
        "    user_query = input(\"Ask your query (type 'exit' or 'goodbye' to end): \").strip().lower()\n",
        "    if user_query in [\"exit\", \"i have to go\", \"goodbye\", \"please stop\", \"end\"]:\n",
        "        print(\"Goodbye! Thanks for your visit. Come again...\")\n",
        "        break\n",
        "    try:\n",
        "        # Adjust the input dictionary to match the expected key\n",
        "        response = agent.invoke({\"input\": user_query})  # 'input' key in lowercase\n",
        "        print(response.get(\"output\", \"No output available\"))  # Safely access the response output\n",
        "    except Exception as e:\n",
        "        print(f\"An error occurred: {e}\")\n"
      ],
      "metadata": {
        "colab": {
          "base_uri": "https://localhost:8080/"
        },
        "id": "mmIjSpnPQrV8",
        "outputId": "d3e71226-ea71-4c15-dbea-ebcdc31a265f"
      },
      "execution_count": 68,
      "outputs": [
        {
          "output_type": "stream",
          "name": "stdout",
          "text": [
            "Welcome To Hasnain's Coding World\n",
            "========================================\n",
            "I am a Calculator Agent, and I also have information about my creator. His name is Hasnain Ali...\n",
            "Ask your query (type 'exit' or 'goodbye' to end): Perform A Multiplication of 765 by 45 and divide the output by 10 and show both answers Detailes\n",
            "Function is Called!\n",
            "Function is Called!\n",
            "The result of multiplying 765 by 45 is 34425.  Dividing 34425 by 10 results in 3442.5\n",
            "Ask your query (type 'exit' or 'goodbye' to end): Your Training Is Looking gorgeous Let me know Who is Your Trainer\n",
            "Function is Called!\n",
            "Function is Called!\n",
            "I am a Calculator Agent developed by Hasnain Ali.\n",
            "Ask your query (type 'exit' or 'goodbye' to end): I wants to know who is hasnain ali\n",
            "Function is Called!\n",
            "Hasnain Ali is a skilled web developer and programmer with a passion for creating dynamic, user-focused projects. His portfolio features innovative Python projects and AI solutions, including a chatbot built with LangChain and Google Gemini LLM. He is exploring Agentic AI and intelligent agents, driving advancements in automation and artificial intelligence. You can find more about him on his LinkedIn profile: https://www.linkedin.com/in/hasnain-ali-developer/\n",
            "Ask your query (type 'exit' or 'goodbye' to end): I am impressed And I wants to Hire him for my upcoming project Can You Share The Contact detailes Of Him\n",
            "Function is Called!\n",
            "Okay, here are Hasnain's contact details:\n",
            "\n",
            "LinkedIn: https://www.linkedin.com/in/hasnain-ali-developer/\n",
            "Github: https://github.com/HasnainCodeHub\n",
            "Instagram: https://www.instagram.com/i_hasnainaliofficial/\n",
            "Facebook: https://www.facebook.com/hasnainazeem.hasnainazeem.1\n",
            "Email: husnainazeem048@gmail.com\n",
            "Contact Number: 03702537927\n",
            "Ask your query (type 'exit' or 'goodbye' to end): goodbye\n",
            "Goodbye! Thanks for your visit. Come again...\n"
          ]
        }
      ]
    }
  ],
  "metadata": {
    "colab": {
      "provenance": []
    },
    "kernelspec": {
      "display_name": "Python 3",
      "name": "python3"
    },
    "language_info": {
      "name": "python"
    }
  },
  "nbformat": 4,
  "nbformat_minor": 0
}