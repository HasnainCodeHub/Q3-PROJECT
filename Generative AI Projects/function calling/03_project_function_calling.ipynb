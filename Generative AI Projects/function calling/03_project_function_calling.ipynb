{
  "cells": [
    {
      "cell_type": "markdown",
      "source": [
        "## Project 03: Hasnain’s Calculator Agent\n",
        "\n",
        "### **Table of Contents**\n",
        "- [Overview](#overview)\n",
        "- [Features](#features)\n",
        "- [Main Components](#main-components)\n",
        "- [Code Implementation](#code-implementation)\n",
        "- [Tool Definitions](#tool-definitions)\n",
        "- [Tool Set](#tool-set)\n",
        "- [Agent Implementation](#agent-implementation)\n",
        "- [Running the Agent](#running-the-agent)\n",
        "\n",
        "---\n",
        "\n",
        "### **Overview**\n",
        "This project is **Hasnain's Calculator Agent**, an intelligent agent that performs arithmetic operations and provides information about its creator using **LangChain** and **Google Gemini LLM**. The agent interacts with the user through natural language queries, making it both useful and engaging.\n",
        "\n",
        "---\n",
        "\n",
        "### **Features**\n",
        "- **Arithmetic Operations**: Supports addition, subtraction, multiplication, and division of integers.\n",
        "- **Information Retrieval**: Provides insights about Hasnain, including his work, projects, and skills.\n",
        "- **Interactive Interface**: Allows users to interact by typing queries and getting intelligent responses in real-time.\n",
        "\n",
        "---\n",
        "\n",
        "### **Main Components**\n",
        "- **Arithmetic Tools**: These tools perform fundamental arithmetic operations:\n",
        "  - Addition Tool: Adds two integers.\n",
        "  - Subtraction Tool: Subtracts one integer from another.\n",
        "  - Multiplication Tool: Multiplies two integers.\n",
        "  - Division Tool: Divides one integer by another.\n",
        "\n",
        "- **Information Tools**:\n",
        "  - Introduction Tool: Provides an overview of Hasnain.\n",
        "  - Creator Tool: Shares information about the agent's creator.\n",
        "\n",
        "- **Goodbye Tool**: A simple tool that stops the agent and provides a farewell message.\n",
        "\n",
        "---\n",
        "\n",
        "### **Code Implementation**\n",
        "Below is the core implementation using **LangChain** and **Google Gemini LLM**.\n",
        "\n",
        "```python\n",
        "from google.colab import userdata\n",
        "import os\n",
        "\n",
        "os.environ['GOOGLE_API_KEY'] = userdata.get('GEMINI_API_KEY')\n",
        "\n",
        "from langchain_google_genai import ChatGoogleGenerativeAI\n",
        "\n",
        "llm = ChatGoogleGenerativeAI(model='gemini-1.5-flash', verbose=True)\n",
        "\n",
        "# Example Invocation:\n",
        "response = llm.invoke(\"Who is Hasnain?\")\n",
        "print(response.content)\n"
      ],
      "metadata": {
        "id": "tpN1L5IlgznY"
      }
    },
    {
      "cell_type": "code",
      "execution_count": null,
      "metadata": {
        "colab": {
          "base_uri": "https://localhost:8080/"
        },
        "collapsed": true,
        "id": "n00AqZIF0K7L",
        "outputId": "e6783fe7-b58e-4544-9df0-ade08b50d80c"
      },
      "outputs": [
        {
          "output_type": "stream",
          "name": "stdout",
          "text": [
            "\u001b[2K   \u001b[90m━━━━━━━━━━━━━━━━━━━━━━━━━━━━━━━━━━━━━━━━\u001b[0m \u001b[32m1.0/1.0 MB\u001b[0m \u001b[31m15.0 MB/s\u001b[0m eta \u001b[36m0:00:00\u001b[0m\n",
            "\u001b[2K   \u001b[90m━━━━━━━━━━━━━━━━━━━━━━━━━━━━━━━━━━━━━━━━\u001b[0m \u001b[32m2.5/2.5 MB\u001b[0m \u001b[31m6.2 MB/s\u001b[0m eta \u001b[36m0:00:00\u001b[0m\n",
            "\u001b[2K   \u001b[90m━━━━━━━━━━━━━━━━━━━━━━━━━━━━━━━━━━━━━━━━\u001b[0m \u001b[32m41.5/41.5 kB\u001b[0m \u001b[31m1.8 MB/s\u001b[0m eta \u001b[36m0:00:00\u001b[0m\n",
            "\u001b[2K   \u001b[90m━━━━━━━━━━━━━━━━━━━━━━━━━━━━━━━━━━━━━━━━\u001b[0m \u001b[32m411.6/411.6 kB\u001b[0m \u001b[31m18.3 MB/s\u001b[0m eta \u001b[36m0:00:00\u001b[0m\n",
            "\u001b[2K   \u001b[90m━━━━━━━━━━━━━━━━━━━━━━━━━━━━━━━━━━━━━━━━\u001b[0m \u001b[32m49.3/49.3 kB\u001b[0m \u001b[31m1.5 MB/s\u001b[0m eta \u001b[36m0:00:00\u001b[0m\n",
            "\u001b[?25h"
          ]
        }
      ],
      "source": [
        "!pip install -q -U langchain langchain_community langchain_google_genai"
      ]
    },
    {
      "cell_type": "code",
      "execution_count": null,
      "metadata": {
        "id": "rbnjuid-57jP"
      },
      "outputs": [],
      "source": [
        "from google.colab import userdata\n",
        "import os\n",
        "\n",
        "os.environ['GOOGLE_API_KEY'] = userdata.get('GEMINI_API_KEY')\n"
      ]
    },
    {
      "cell_type": "code",
      "execution_count": null,
      "metadata": {
        "colab": {
          "base_uri": "https://localhost:8080/",
          "height": 90
        },
        "id": "CKv537eq5ut3",
        "outputId": "4897f64e-d500-46ea-e7f2-0ae426a6e220"
      },
      "outputs": [
        {
          "output_type": "execute_result",
          "data": {
            "text/plain": [
              "\"There is no single, universally known person named Hasnain.  Hasnain is a relatively common surname, particularly in South Asia and parts of the Middle East, and many individuals share that name.  To find out who a specific Hasnain is, you'll need to provide more information, such as:\\n\\n* **Their first name:** This is crucial for narrowing down the possibilities.\\n* **Their profession or field of work:**  Are they a doctor, an engineer, an artist, etc.?\\n* **Their location:**  Where do they live or work?\\n* **Any other identifying details:**  Do you know anything else about them, like their age, company they work for, or any public achievements?\\n\\nWith more details, it might be possible to identify the specific Hasnain you're looking for.\""
            ],
            "application/vnd.google.colaboratory.intrinsic+json": {
              "type": "string"
            }
          },
          "metadata": {},
          "execution_count": 3
        }
      ],
      "source": [
        "from langchain_google_genai import ChatGoogleGenerativeAI\n",
        "\n",
        "llm=ChatGoogleGenerativeAI(model='gemini-1.5-flash',verbose=True)\n",
        "\n",
        "llm.invoke(\"Who is Hasnain?\").content"
      ]
    },
    {
      "cell_type": "code",
      "execution_count": null,
      "metadata": {
        "id": "kEj_SgsZ60FG"
      },
      "outputs": [],
      "source": [
        "from langchain.tools import Tool\n",
        "\n",
        "def add(a: int, b: int) -> int:\n",
        "    \"\"\"Add two integers.\"\"\"\n",
        "    return a + b\n",
        "\n",
        "def subtract(a: int, b: int) -> int:\n",
        "    \"\"\"Subtract two integers.\"\"\"\n",
        "    return a - b\n",
        "\n",
        "def multiply(a: int, b: int) -> int:\n",
        "    \"\"\"Multiply two integers.\"\"\"\n",
        "    return a * b\n",
        "\n",
        "def divide(a: int, b: int) -> float:\n",
        "    \"\"\"Divide two integers.\"\"\"\n",
        "    if b == 0:\n",
        "        return \"Error: Division by zero is not allowed.\"\n",
        "    return a / b\n",
        "\n",
        "def intro(_: str) -> str:\n",
        "    \"\"\"Provide Hasnain's introduction.\"\"\"\n",
        "    return (\n",
        "        \"\"\"Hasnain Ali is a skilled web developer and programmer with a passion for creating dynamic, user-focused projects.\n",
        "        Here is His Linkedin Profile: https://www.linkedin.com/in/hasnain-ali-developer/\n",
        "        His portfolio features innovative Python projects and AI solutions, including a chatbot built with LangChain and Google Gemini LLM.\n",
        "        He is exploring Agentic AI and intelligent agents, driving advancements in automation and artificial intelligence.\"\"\"\n",
        "    )\n",
        "def creator(_: str) -> str:\n",
        "    \"\"\"Provide Hasnain's introduction.\"\"\"\n",
        "    return (\n",
        "        \"\"\"I am a Calculator Agent Developed By Hasnain Ali.\n",
        "        If You Want to know About Hasnain Ali Then Type Who Is hasnain\n",
        "    \"\"\"\n",
        "    )\n",
        "def goodbye(_: str) -> str:\n",
        "    \"\"\"Stop the Agent.\"\"\"\n",
        "    print(\"Goodbye! Thanks for your visit. Come again...\")\n",
        "    return \"stop\"\n"
      ]
    },
    {
      "cell_type": "code",
      "source": [
        "all_tools = [\n",
        "    Tool(\n",
        "        name=\"Addition Tool\",\n",
        "        func=lambda x: f\"The result is: {add(*map(int, x.split()))}\",\n",
        "        description=\"Give Response According to Given Arithmetic Tools for two numbers. Input should be two integers separated by a space.\"\n",
        "    ),\n",
        "\n",
        "    Tool(\n",
        "        name=\"Subtraction Tool\",\n",
        "        func=lambda x: f\"The result is: {subtract(*map(int, x.split()))}\",\n",
        "        description=\"Give Response According to Given Arithmetic Tools for two numbers. Input should be two integers separated by a space.\"\n",
        "    ),\n",
        "\n",
        "    Tool(\n",
        "        name=\"Multiplication Tool\",\n",
        "        func=lambda x: f\"The result is: {multiply(*map(int, x.split()))}\",\n",
        "        description=\"Give Response According to Given Arithmetic Tools for two numbers. Input should be two integers separated by a space.\"\n",
        "    ),\n",
        "\n",
        "    Tool(\n",
        "        name=\"Division Tool\",\n",
        "        func=lambda x: f\"The result is: {divide(*map(int, x.split()))}\",\n",
        "        description=\"Give Response According to Given Arithmetic Tools for two numbers. Input should be two integers separated by a space.\"\n",
        "    ),\n",
        "\n",
        "    Tool(\n",
        "        name=\"Introduction Tool\",\n",
        "        func=lambda x: f\"The result is: {intro(*map(str, x.split()))}\",\n",
        "        description=\"Give Intro of Hasnain.\"\n",
        "    ),\n",
        "\n",
        "    Tool(\n",
        "        name=\"Creator Tool\",\n",
        "        func=lambda x: f\"The result is: {creator(*map(str, x.split()))}\",\n",
        "        description=\"Give Creator's Info.\"\n",
        "    ),\n",
        "\n",
        "    Tool(\n",
        "        name=\"Good Bye\",\n",
        "        func=lambda x: f\"The result is: {goodbye(*map(str, x.split()))}\",\n",
        "        description=\"Stop The Agent And Call The Good Bye Tool\"\n",
        "    )\n",
        "]\n"
      ],
      "metadata": {
        "id": "R9ni9x7KDDgI"
      },
      "execution_count": null,
      "outputs": []
    },
    {
      "cell_type": "code",
      "execution_count": null,
      "metadata": {
        "id": "Ro5skDYCIKWw"
      },
      "outputs": [],
      "source": [
        "from langchain.agents import initialize_agent, AgentType\n",
        "\n",
        "# List of tools\n",
        "tools = [all_tools[0], all_tools[1], all_tools[2], all_tools[3], all_tools[4], all_tools[5]]\n",
        "\n",
        "# Initialize the agent\n",
        "agent = initialize_agent(\n",
        "    tools=tools,                        # Provide the tools\n",
        "    llm=llm,                            # LLM for fallback\n",
        "    agent=AgentType.ZERO_SHOT_REACT_DESCRIPTION,  # Agent type\n",
        "    verbose=True                        # Enable debugging output\n",
        ")\n"
      ]
    },
    {
      "cell_type": "code",
      "source": [
        "print(\"Welcome To Hasnain's Coding World\")\n",
        "print(\"=\" * 40)\n",
        "print(\"I am a Calculator Agent, and I also have information about my creator. His name is Hasnain Ali...\")\n",
        "\n",
        "while True:\n",
        "    user_query = input(\"Ask your query (type 'exit' or 'goodbye' to end): \").strip().lower()\n",
        "    if user_query in [\"exit\", \"i have to go\",\"goodbye\",\" please stop\"]:\n",
        "        print(\"Goodbye! Thanks For Your Visit Come Again...\")\n",
        "        break\n",
        "    try:\n",
        "        response = agent.invoke(user_query)  # Uses the tool\n",
        "        print(response)\n",
        "    except Exception as e:\n",
        "        print(f\"An error occurred: {e}\")"
      ],
      "metadata": {
        "colab": {
          "base_uri": "https://localhost:8080/"
        },
        "id": "mmIjSpnPQrV8",
        "outputId": "cee520f2-3d21-4cc1-bea3-1883c5c8bccc"
      },
      "execution_count": null,
      "outputs": [
        {
          "output_type": "stream",
          "name": "stdout",
          "text": [
            "Welcome To Hasnain's Coding World\n",
            "========================================\n",
            "I am a Calculator Agent, and I also have information about my creator. His name is Hasnain Ali...\n",
            "Ask your query (type 'exit' or 'goodbye' to end): goodbye\n",
            "Goodbye! Thanks For Your Visit Come Again...\n"
          ]
        }
      ]
    }
  ],
  "metadata": {
    "colab": {
      "provenance": []
    },
    "kernelspec": {
      "display_name": "Python 3",
      "name": "python3"
    },
    "language_info": {
      "name": "python"
    }
  },
  "nbformat": 4,
  "nbformat_minor": 0
}